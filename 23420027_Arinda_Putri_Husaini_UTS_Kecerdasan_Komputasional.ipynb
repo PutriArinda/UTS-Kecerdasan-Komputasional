{
  "nbformat": 4,
  "nbformat_minor": 0,
  "metadata": {
    "colab": {
      "provenance": [],
      "authorship_tag": "ABX9TyP4jEQCJfKngDEte1Jl5+mU",
      "include_colab_link": true
    },
    "kernelspec": {
      "name": "python3",
      "display_name": "Python 3"
    },
    "language_info": {
      "name": "python"
    }
  },
  "cells": [
    {
      "cell_type": "markdown",
      "metadata": {
        "id": "view-in-github",
        "colab_type": "text"
      },
      "source": [
        "<a href=\"https://colab.research.google.com/github/PutriArinda/UTS-Kecerdasan-Komputasional/blob/main/23420027_Arinda_Putri_Husaini_UTS_Kecerdasan_Komputasional.ipynb\" target=\"_parent\"><img src=\"https://colab.research.google.com/assets/colab-badge.svg\" alt=\"Open In Colab\"/></a>"
      ]
    },
    {
      "cell_type": "code",
      "execution_count": 1,
      "metadata": {
        "id": "9mLM66NSN7yi"
      },
      "outputs": [],
      "source": [
        "import matplotlib as plt\n",
        "from sklearn.datasets import make_blobs\n",
        "from sklearn.cluster import KMeans\n",
        "from sklearn.metrics import silhouette_score\n",
        "from sklearn.preprocessing import StandardScaler"
      ]
    },
    {
      "cell_type": "code",
      "source": [
        "features, true_label = make_blobs(\n",
        "    n_samples=270,\n",
        "    centers=5,\n",
        "    cluster_std=2.75,\n",
        "    random_state=42\n",
        ")"
      ],
      "metadata": {
        "id": "snb3DPBdOf_2"
      },
      "execution_count": 2,
      "outputs": []
    },
    {
      "cell_type": "code",
      "source": [
        "true_label[:200]"
      ],
      "metadata": {
        "colab": {
          "base_uri": "https://localhost:8080/"
        },
        "id": "bzc0KTq3OnDo",
        "outputId": "3e22509c-ce1a-4fdb-8512-b5026212016f"
      },
      "execution_count": 3,
      "outputs": [
        {
          "output_type": "execute_result",
          "data": {
            "text/plain": [
              "array([2, 4, 2, 2, 1, 0, 0, 4, 1, 0, 2, 2, 1, 1, 2, 3, 1, 1, 0, 3, 3, 2,\n",
              "       1, 4, 2, 3, 4, 3, 1, 4, 3, 3, 2, 4, 2, 4, 1, 2, 3, 2, 3, 1, 0, 4,\n",
              "       4, 0, 4, 0, 3, 1, 2, 4, 1, 1, 1, 0, 2, 3, 4, 2, 0, 0, 3, 0, 3, 0,\n",
              "       1, 4, 0, 4, 4, 1, 1, 0, 2, 1, 2, 1, 4, 0, 1, 1, 4, 3, 0, 2, 0, 2,\n",
              "       3, 0, 3, 1, 1, 2, 1, 2, 0, 0, 2, 1, 3, 0, 1, 0, 1, 1, 0, 0, 3, 1,\n",
              "       4, 0, 3, 4, 2, 3, 2, 4, 0, 3, 0, 4, 1, 3, 0, 3, 2, 3, 1, 4, 4, 1,\n",
              "       2, 3, 1, 2, 4, 3, 0, 4, 0, 0, 4, 2, 0, 1, 1, 2, 4, 0, 2, 2, 3, 1,\n",
              "       4, 2, 4, 3, 4, 2, 1, 0, 1, 3, 4, 4, 3, 4, 4, 0, 2, 1, 0, 0, 0, 0,\n",
              "       3, 2, 1, 3, 2, 3, 4, 1, 4, 3, 3, 2, 4, 4, 3, 3, 2, 0, 2, 2, 3, 2,\n",
              "       3, 1])"
            ]
          },
          "metadata": {},
          "execution_count": 3
        }
      ]
    },
    {
      "cell_type": "code",
      "source": [
        "standard_skala = StandardScaler()\n",
        "skala_fitur = standard_skala.fit_transform(features)"
      ],
      "metadata": {
        "id": "GCkB0_F5OtFe"
      },
      "execution_count": 4,
      "outputs": []
    },
    {
      "cell_type": "code",
      "source": [
        "skala_fitur[:10]"
      ],
      "metadata": {
        "colab": {
          "base_uri": "https://localhost:8080/"
        },
        "id": "fCeUsgNsO403",
        "outputId": "a59aaf0c-3637-4df0-ebd8-b955284b58fe"
      },
      "execution_count": 5,
      "outputs": [
        {
          "output_type": "execute_result",
          "data": {
            "text/plain": [
              "array([[ 0.06622395, -1.44201305],\n",
              "       [-0.00976766,  0.20073474],\n",
              "       [-0.17149416, -1.88952223],\n",
              "       [-0.15793939, -1.61444101],\n",
              "       [ 1.52548219,  0.33174346],\n",
              "       [-0.31288269,  1.80335658],\n",
              "       [-0.46216272,  0.33737312],\n",
              "       [ 0.27790593,  0.09366893],\n",
              "       [ 1.7167552 ,  0.0071719 ],\n",
              "       [-0.1866661 ,  0.61130978]])"
            ]
          },
          "metadata": {},
          "execution_count": 5
        }
      ]
    },
    {
      "cell_type": "code",
      "source": [
        "metode_kmeans = KMeans(\n",
        "    init=\"random\", \n",
        "    n_clusters=7, \n",
        "    n_init=10, \n",
        "    max_iter=100, \n",
        "    random_state=41\n",
        "    )"
      ],
      "metadata": {
        "id": "ENOA5QFNO-y1"
      },
      "execution_count": 6,
      "outputs": []
    },
    {
      "cell_type": "code",
      "source": [
        "metode_kmeans.fit(skala_fitur)"
      ],
      "metadata": {
        "colab": {
          "base_uri": "https://localhost:8080/",
          "height": 75
        },
        "id": "h2fhDoJNRJRS",
        "outputId": "8e4b65b9-3149-43e8-f4be-6742e797b592"
      },
      "execution_count": 7,
      "outputs": [
        {
          "output_type": "execute_result",
          "data": {
            "text/plain": [
              "KMeans(init='random', max_iter=100, n_clusters=7, n_init=10, random_state=41)"
            ],
            "text/html": [
              "<style>#sk-container-id-1 {color: black;background-color: white;}#sk-container-id-1 pre{padding: 0;}#sk-container-id-1 div.sk-toggleable {background-color: white;}#sk-container-id-1 label.sk-toggleable__label {cursor: pointer;display: block;width: 100%;margin-bottom: 0;padding: 0.3em;box-sizing: border-box;text-align: center;}#sk-container-id-1 label.sk-toggleable__label-arrow:before {content: \"▸\";float: left;margin-right: 0.25em;color: #696969;}#sk-container-id-1 label.sk-toggleable__label-arrow:hover:before {color: black;}#sk-container-id-1 div.sk-estimator:hover label.sk-toggleable__label-arrow:before {color: black;}#sk-container-id-1 div.sk-toggleable__content {max-height: 0;max-width: 0;overflow: hidden;text-align: left;background-color: #f0f8ff;}#sk-container-id-1 div.sk-toggleable__content pre {margin: 0.2em;color: black;border-radius: 0.25em;background-color: #f0f8ff;}#sk-container-id-1 input.sk-toggleable__control:checked~div.sk-toggleable__content {max-height: 200px;max-width: 100%;overflow: auto;}#sk-container-id-1 input.sk-toggleable__control:checked~label.sk-toggleable__label-arrow:before {content: \"▾\";}#sk-container-id-1 div.sk-estimator input.sk-toggleable__control:checked~label.sk-toggleable__label {background-color: #d4ebff;}#sk-container-id-1 div.sk-label input.sk-toggleable__control:checked~label.sk-toggleable__label {background-color: #d4ebff;}#sk-container-id-1 input.sk-hidden--visually {border: 0;clip: rect(1px 1px 1px 1px);clip: rect(1px, 1px, 1px, 1px);height: 1px;margin: -1px;overflow: hidden;padding: 0;position: absolute;width: 1px;}#sk-container-id-1 div.sk-estimator {font-family: monospace;background-color: #f0f8ff;border: 1px dotted black;border-radius: 0.25em;box-sizing: border-box;margin-bottom: 0.5em;}#sk-container-id-1 div.sk-estimator:hover {background-color: #d4ebff;}#sk-container-id-1 div.sk-parallel-item::after {content: \"\";width: 100%;border-bottom: 1px solid gray;flex-grow: 1;}#sk-container-id-1 div.sk-label:hover label.sk-toggleable__label {background-color: #d4ebff;}#sk-container-id-1 div.sk-serial::before {content: \"\";position: absolute;border-left: 1px solid gray;box-sizing: border-box;top: 0;bottom: 0;left: 50%;z-index: 0;}#sk-container-id-1 div.sk-serial {display: flex;flex-direction: column;align-items: center;background-color: white;padding-right: 0.2em;padding-left: 0.2em;position: relative;}#sk-container-id-1 div.sk-item {position: relative;z-index: 1;}#sk-container-id-1 div.sk-parallel {display: flex;align-items: stretch;justify-content: center;background-color: white;position: relative;}#sk-container-id-1 div.sk-item::before, #sk-container-id-1 div.sk-parallel-item::before {content: \"\";position: absolute;border-left: 1px solid gray;box-sizing: border-box;top: 0;bottom: 0;left: 50%;z-index: -1;}#sk-container-id-1 div.sk-parallel-item {display: flex;flex-direction: column;z-index: 1;position: relative;background-color: white;}#sk-container-id-1 div.sk-parallel-item:first-child::after {align-self: flex-end;width: 50%;}#sk-container-id-1 div.sk-parallel-item:last-child::after {align-self: flex-start;width: 50%;}#sk-container-id-1 div.sk-parallel-item:only-child::after {width: 0;}#sk-container-id-1 div.sk-dashed-wrapped {border: 1px dashed gray;margin: 0 0.4em 0.5em 0.4em;box-sizing: border-box;padding-bottom: 0.4em;background-color: white;}#sk-container-id-1 div.sk-label label {font-family: monospace;font-weight: bold;display: inline-block;line-height: 1.2em;}#sk-container-id-1 div.sk-label-container {text-align: center;}#sk-container-id-1 div.sk-container {/* jupyter's `normalize.less` sets `[hidden] { display: none; }` but bootstrap.min.css set `[hidden] { display: none !important; }` so we also need the `!important` here to be able to override the default hidden behavior on the sphinx rendered scikit-learn.org. See: https://github.com/scikit-learn/scikit-learn/issues/21755 */display: inline-block !important;position: relative;}#sk-container-id-1 div.sk-text-repr-fallback {display: none;}</style><div id=\"sk-container-id-1\" class=\"sk-top-container\"><div class=\"sk-text-repr-fallback\"><pre>KMeans(init=&#x27;random&#x27;, max_iter=100, n_clusters=7, n_init=10, random_state=41)</pre><b>In a Jupyter environment, please rerun this cell to show the HTML representation or trust the notebook. <br />On GitHub, the HTML representation is unable to render, please try loading this page with nbviewer.org.</b></div><div class=\"sk-container\" hidden><div class=\"sk-item\"><div class=\"sk-estimator sk-toggleable\"><input class=\"sk-toggleable__control sk-hidden--visually\" id=\"sk-estimator-id-1\" type=\"checkbox\" checked><label for=\"sk-estimator-id-1\" class=\"sk-toggleable__label sk-toggleable__label-arrow\">KMeans</label><div class=\"sk-toggleable__content\"><pre>KMeans(init=&#x27;random&#x27;, max_iter=100, n_clusters=7, n_init=10, random_state=41)</pre></div></div></div></div></div>"
            ]
          },
          "metadata": {},
          "execution_count": 7
        }
      ]
    },
    {
      "cell_type": "code",
      "source": [
        "metode_kmeans.inertia_"
      ],
      "metadata": {
        "colab": {
          "base_uri": "https://localhost:8080/"
        },
        "id": "zdjzioiJRLsb",
        "outputId": "c81b2ddd-d7a1-496a-a940-46ef9a4af019"
      },
      "execution_count": 8,
      "outputs": [
        {
          "output_type": "execute_result",
          "data": {
            "text/plain": [
              "66.1831645797776"
            ]
          },
          "metadata": {},
          "execution_count": 8
        }
      ]
    },
    {
      "cell_type": "code",
      "source": [
        "metode_kmeans.cluster_centers_"
      ],
      "metadata": {
        "colab": {
          "base_uri": "https://localhost:8080/"
        },
        "id": "tZVniGOGRP5S",
        "outputId": "b683a1b0-a949-4819-c7be-48e9741518a2"
      },
      "execution_count": 9,
      "outputs": [
        {
          "output_type": "execute_result",
          "data": {
            "text/plain": [
              "array([[-0.00763764,  0.29796071],\n",
              "       [ 1.55051316, -0.29046856],\n",
              "       [-1.26455207,  0.70929644],\n",
              "       [ 0.67863402, -0.29426003],\n",
              "       [-0.1916404 ,  1.1517941 ],\n",
              "       [-0.74850586, -1.64151083],\n",
              "       [ 1.17929759,  0.55518827]])"
            ]
          },
          "metadata": {},
          "execution_count": 9
        }
      ]
    },
    {
      "cell_type": "code",
      "source": [
        "metode_kmeans.n_iter_"
      ],
      "metadata": {
        "colab": {
          "base_uri": "https://localhost:8080/"
        },
        "id": "ku24wXU5RTw_",
        "outputId": "b4b35e0b-4be7-4628-dd53-71262021f7ff"
      },
      "execution_count": 10,
      "outputs": [
        {
          "output_type": "execute_result",
          "data": {
            "text/plain": [
              "11"
            ]
          },
          "metadata": {},
          "execution_count": 10
        }
      ]
    },
    {
      "cell_type": "code",
      "source": [
        "metode_kmeans.labels_"
      ],
      "metadata": {
        "colab": {
          "base_uri": "https://localhost:8080/"
        },
        "id": "Cm04anwjRafO",
        "outputId": "fa8051ab-033b-4083-fa49-cedcec94f941"
      },
      "execution_count": 11,
      "outputs": [
        {
          "output_type": "execute_result",
          "data": {
            "text/plain": [
              "array([5, 0, 5, 5, 6, 4, 0, 0, 1, 0, 5, 5, 6, 6, 5, 4, 1, 1, 0, 2, 2, 5,\n",
              "       1, 6, 5, 2, 3, 2, 1, 1, 2, 2, 5, 3, 5, 3, 1, 5, 2, 5, 2, 1, 0, 0,\n",
              "       0, 0, 3, 2, 2, 3, 5, 6, 6, 1, 1, 6, 5, 2, 0, 5, 4, 2, 2, 4, 2, 4,\n",
              "       3, 0, 4, 6, 3, 1, 3, 0, 5, 1, 5, 1, 3, 4, 6, 1, 0, 0, 0, 5, 4, 5,\n",
              "       2, 4, 4, 3, 3, 5, 1, 5, 4, 4, 5, 6, 2, 4, 3, 2, 3, 3, 6, 4, 2, 1,\n",
              "       6, 4, 2, 1, 5, 2, 5, 0, 2, 2, 4, 4, 3, 4, 0, 4, 5, 2, 1, 6, 3, 1,\n",
              "       5, 2, 6, 5, 1, 2, 4, 6, 4, 4, 0, 5, 0, 6, 3, 5, 3, 4, 5, 5, 2, 1,\n",
              "       3, 5, 0, 2, 1, 5, 1, 4, 1, 0, 6, 3, 2, 3, 6, 4, 5, 6, 4, 4, 4, 0,\n",
              "       4, 5, 3, 4, 5, 2, 6, 3, 6, 2, 2, 5, 3, 0, 0, 2, 5, 2, 5, 5, 2, 5,\n",
              "       2, 1, 3, 3, 4, 1, 6, 2, 2, 4, 0, 3, 2, 6, 6, 2, 5, 4, 5, 5, 0, 2,\n",
              "       3, 2, 0, 5, 6, 5, 2, 6, 3, 3, 3, 3, 4, 4, 0, 3, 5, 5, 3, 5, 3, 4,\n",
              "       1, 2, 5, 2, 4, 0, 6, 4, 1, 4, 5, 0, 4, 3, 6, 5, 3, 1, 4, 2, 2, 3,\n",
              "       3, 4, 4, 3, 5, 6], dtype=int32)"
            ]
          },
          "metadata": {},
          "execution_count": 11
        }
      ]
    },
    {
      "cell_type": "code",
      "source": [
        "import numpy as np\n",
        "import matplotlib.pyplot as plt\n",
        "import pandas as pd"
      ],
      "metadata": {
        "id": "c4vsAbYpRiCS"
      },
      "execution_count": 12,
      "outputs": []
    },
    {
      "cell_type": "code",
      "source": [
        "color = np.array([\"Red\",\"Green\",\"Blue\",\"yellow\",\"brown\",\"pink\",\"grey\"])\n",
        "plt.subplot(1,2,2)\n",
        "plt.scatter(skala_fitur[:,0], skala_fitur[:,1], s=50, alpha=1, cmap='viridis', c=color[metode_kmeans.labels_])\n"
      ],
      "metadata": {
        "colab": {
          "base_uri": "https://localhost:8080/",
          "height": 482
        },
        "id": "Iqf4Nd6QRm11",
        "outputId": "bed622b5-c6c0-4e5d-f207-43240fb77e4c"
      },
      "execution_count": 13,
      "outputs": [
        {
          "output_type": "stream",
          "name": "stderr",
          "text": [
            "<ipython-input-13-2cb0817dc99f>:3: UserWarning: No data for colormapping provided via 'c'. Parameters 'cmap' will be ignored\n",
            "  plt.scatter(skala_fitur[:,0], skala_fitur[:,1], s=50, alpha=1, cmap='viridis', c=color[metode_kmeans.labels_])\n"
          ]
        },
        {
          "output_type": "execute_result",
          "data": {
            "text/plain": [
              "<matplotlib.collections.PathCollection at 0x7ffa422afdf0>"
            ]
          },
          "metadata": {},
          "execution_count": 13
        },
        {
          "output_type": "display_data",
          "data": {
            "text/plain": [
              "<Figure size 640x480 with 1 Axes>"
            ],
            "image/png": "[encoded data removed]"
          },
          "metadata": {}
        }
      ]
    }
  ]
}